{
 "cells": [
  {
   "cell_type": "code",
   "execution_count": 7,
   "metadata": {},
   "outputs": [
    {
     "name": "stdout",
     "output_type": "stream",
     "text": [
      "Pixel Size = 5.2 um\n"
     ]
    },
    {
     "ename": "FileNotFoundError",
     "evalue": "[WinError 3] The system cannot find the path specified: '.\\\\GitHub\\\\slm\\\\images\\\\2021\\\\November\\\\22\\\\Measure 162'",
     "output_type": "error",
     "traceback": [
      "\u001b[1;31m---------------------------------------------------------------------------\u001b[0m",
      "\u001b[1;31mFileNotFoundError\u001b[0m                         Traceback (most recent call last)",
      "\u001b[1;32m<ipython-input-7-4eca79b948e9>\u001b[0m in \u001b[0;36m<module>\u001b[1;34m\u001b[0m\n\u001b[0;32m     20\u001b[0m \u001b[1;33m\u001b[0m\u001b[0m\n\u001b[0;32m     21\u001b[0m \u001b[1;31m#collect beam radius arrays from images\u001b[0m\u001b[1;33m\u001b[0m\u001b[1;33m\u001b[0m\u001b[1;33m\u001b[0m\u001b[0m\n\u001b[1;32m---> 22\u001b[1;33m \u001b[0mz\u001b[0m\u001b[1;33m,\u001b[0m \u001b[0mwx\u001b[0m\u001b[1;33m,\u001b[0m \u001b[0mwy\u001b[0m \u001b[1;33m=\u001b[0m \u001b[0mprofile\u001b[0m\u001b[1;33m.\u001b[0m\u001b[0manalyseBeamProfile\u001b[0m\u001b[1;33m(\u001b[0m\u001b[0md\u001b[0m\u001b[1;33m)\u001b[0m\u001b[1;33m\u001b[0m\u001b[1;33m\u001b[0m\u001b[0m\n\u001b[0m\u001b[0;32m     23\u001b[0m \u001b[1;33m\u001b[0m\u001b[0m\n\u001b[0;32m     24\u001b[0m \u001b[1;31m#collect intensity values from images\u001b[0m\u001b[1;33m\u001b[0m\u001b[1;33m\u001b[0m\u001b[1;33m\u001b[0m\u001b[0m\n",
      "\u001b[1;32mc:\\Users\\imoge\\OneDrive\\Documents\\Fourth Year\\Project\\Imogen\\beam_fitting_code.py\u001b[0m in \u001b[0;36manalyseBeamProfile\u001b[1;34m(self, fit, plot_all, crop_x, crop_y, angle)\u001b[0m\n\u001b[0;32m    195\u001b[0m \u001b[1;33m\u001b[0m\u001b[0m\n\u001b[0;32m    196\u001b[0m         \u001b[0mi\u001b[0m \u001b[1;33m=\u001b[0m \u001b[1;36m0\u001b[0m\u001b[1;33m\u001b[0m\u001b[1;33m\u001b[0m\u001b[0m\n\u001b[1;32m--> 197\u001b[1;33m         \u001b[0mprint\u001b[0m\u001b[1;33m(\u001b[0m\u001b[0mos\u001b[0m\u001b[1;33m.\u001b[0m\u001b[0mlistdir\u001b[0m\u001b[1;33m(\u001b[0m\u001b[0mself\u001b[0m\u001b[1;33m.\u001b[0m\u001b[0mdirectory\u001b[0m\u001b[1;33m)\u001b[0m\u001b[1;33m)\u001b[0m\u001b[1;33m\u001b[0m\u001b[1;33m\u001b[0m\u001b[0m\n\u001b[0m\u001b[0;32m    198\u001b[0m         \u001b[1;32mfor\u001b[0m \u001b[0mfilename\u001b[0m \u001b[1;32min\u001b[0m \u001b[0mos\u001b[0m\u001b[1;33m.\u001b[0m\u001b[0mlistdir\u001b[0m\u001b[1;33m(\u001b[0m\u001b[0mself\u001b[0m\u001b[1;33m.\u001b[0m\u001b[0mdirectory\u001b[0m\u001b[1;33m)\u001b[0m\u001b[1;33m:\u001b[0m\u001b[1;33m\u001b[0m\u001b[1;33m\u001b[0m\u001b[0m\n\u001b[0;32m    199\u001b[0m \u001b[1;33m\u001b[0m\u001b[0m\n",
      "\u001b[1;31mFileNotFoundError\u001b[0m: [WinError 3] The system cannot find the path specified: '.\\\\GitHub\\\\slm\\\\images\\\\2021\\\\November\\\\22\\\\Measure 162'"
     ]
    }
   ],
   "source": [
    "# -*- coding: utf-8 -*-\n",
    "\"\"\"\n",
    "Created on Mon Nov 22 10:35:37 2021\n",
    "\n",
    "@author: imoge\n",
    "\"\"\"\n",
    "\n",
    "import numpy as np\n",
    "import matplotlib.pyplot as plt\n",
    "from beam_fitting_code import profile\n",
    "from beam_fitting_code import image\n",
    "import scipy.optimize as scpo\n",
    "\n",
    "#file images are being taken from\n",
    "d = r\".\\GitHub\\slm\\images\\2021\\November\\22\\Measure 16\"\n",
    "amplitude_range= np.arange(0, 0.3, 0.005)  \n",
    "\n",
    "#intialise modules\n",
    "profile=profile(d)\n",
    "\n",
    "#collect beam radius arrays from images\n",
    "z, wx, wy = profile.analyseBeamProfile(d)\n",
    "\n",
    "#collect intensity values from images\n",
    "for x in range(0,(3*len(amplitude_range)),1):\n",
    "    \n",
    "    d = d + \"\\{}.png\". format(x)\n",
    "    \n",
    "    yInt, xInt, xpix, ypix, xth, xopt, yth, yopt = profile.plotSingle()\n",
    "\n",
    "#remove background - code makes image 0 the background image\n",
    "wx_corrected = []\n",
    "wy_corrected = []\n",
    "for image_no in range(1,len(wx),1):\n",
    "    wx_corrected.append(wx[image_no] - wx[0])\n",
    "    wy_corrected.append(wy[image_no] - wy[0])\n",
    "    \n",
    "\n",
    "    \n",
    "#breaks list of values into repeats and averages\n",
    "amplitude_range= np.arange(0, 0.3, 0.005) \n",
    "images_in_set = len(amplitude_range)\n",
    "wx_1 = wx[1:(images_in_set+1)]\n",
    "wx_2 = wx[(images_in_set+1):2*(images_in_set)+1]\n",
    "wx_3 = wx[2*(images_in_set)+1::]\n",
    "wx_average = (wx_1 + wx_2 + wx_3)/3\n",
    "\n",
    "wy_1 = wy[1:(images_in_set+1)]\n",
    "wy_2 = wy[(images_in_set+1):2*(images_in_set)+1]\n",
    "wy_3 = wy[2*(images_in_set)+1::]\n",
    "wy_average = (wy_1 + wy_2 + wy_3)/3\n",
    "\n",
    "#error analysis\n",
    "#TO DO\n",
    "\n",
    "\n",
    "#plot of beam waist vs amplitude\n",
    "plt.figure(figsize=(10,4)) \n",
    "plt.scatter(amplitude_range, wx_average, label='Mean beam waist in x')\n",
    "#plt.scatter(np.arange(-1, 1,0.1), wx_corrected[1:21], label='Beam waist in x')\n",
    "plt.scatter(amplitude_range , wy_average, label= 'Mean beam waist in y')\n",
    "plt.ylabel('Beam $\\\\frac{1}{e^2} $ waist in x / mm')\n",
    "plt.xlabel('Amplitude ')\n",
    "#plt.axvspan(200,300, 0, 2, alpha=0.25, color ='green') #bar for consideration at supervision\n",
    "plt.legend()\n",
    "plt.show()\n",
    "\n",
    "#plot of beam waist vs milliwaves\n",
    "plt.figure(figsize=(10,4))\n",
    "plt.scatter(amplitude_range*1000, wx_average, label='Mean beam waist in x')\n",
    "plt.scatter(amplitude_range*1000, wy_average, label='Mean beam waist in y')\n",
    "plt.ylabel('Beam $\\\\frac{1}{e^2} $ waist in x / mm')\n",
    "plt.xlabel('Milliwaves ')\n",
    "plt.legend()\n",
    "plt.show()\n"
   ]
  }
 ],
 "metadata": {
  "interpreter": {
   "hash": "ba79f68023dca368a0b4669c430efff2e6e1adca6b9055442baae61813882dcc"
  },
  "kernelspec": {
   "display_name": "Python 3.8.8 64-bit ('base': conda)",
   "language": "python",
   "name": "python3"
  },
  "language_info": {
   "codemirror_mode": {
    "name": "ipython",
    "version": 3
   },
   "file_extension": ".py",
   "mimetype": "text/x-python",
   "name": "python",
   "nbconvert_exporter": "python",
   "pygments_lexer": "ipython3",
   "version": "3.8.8"
  },
  "orig_nbformat": 4
 },
 "nbformat": 4,
 "nbformat_minor": 2
}
