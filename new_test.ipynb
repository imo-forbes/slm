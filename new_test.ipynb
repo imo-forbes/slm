{
 "cells": [
  {
   "cell_type": "code",
   "execution_count": 8,
   "metadata": {},
   "outputs": [
    {
     "name": "stdout",
     "output_type": "stream",
     "text": [
      "Pixel Size = 5.2 um\n",
      "['0.png', '1.png', '10.png', '100.png', '101.png', '102.png', '103.png', '104.png', '105.png', '106.png', '107.png', '108.png', '109.png', '11.png', '110.png', '111.png', '112.png', '113.png', '114.png', '115.png', '116.png', '117.png', '118.png', '119.png', '12.png', '120.png', '121.png', '122.png', '123.png', '124.png', '125.png', '126.png', '127.png', '128.png', '129.png', '13.png', '130.png', '131.png', '132.png', '133.png', '134.png', '135.png', '136.png', '137.png', '138.png', '139.png', '14.png', '140.png', '141.png', '142.png', '143.png', '144.png', '145.png', '146.png', '147.png', '148.png', '149.png', '15.png', '150.png', '151.png', '152.png', '153.png', '154.png', '155.png', '156.png', '157.png', '158.png', '159.png', '16.png', '160.png', '161.png', '162.png', '163.png', '164.png', '165.png', '166.png', '167.png', '168.png', '169.png', '17.png', '170.png', '171.png', '172.png', '173.png', '174.png', '175.png', '176.png', '177.png', '178.png', '179.png', '18.png', '180.png', '19.png', '2.png', '20.png', '21.png', '22.png', '23.png', '24.png', '25.png', '26.png', '27.png', '28.png', '29.png', '3.png', '30.png', '31.png', '32.png', '33.png', '34.png', '35.png', '36.png', '37.png', '38.png', '39.png', '4.png', '40.png', '41.png', '42.png', '43.png', '44.png', '45.png', '46.png', '47.png', '48.png', '49.png', '5.png', '50.png', '51.png', '52.png', '53.png', '54.png', '55.png', '56.png', '57.png', '58.png', '59.png', '6.png', '60.png', '61.png', '62.png', '63.png', '64.png', '65.png', '66.png', '67.png', '68.png', '69.png', '7.png', '70.png', '71.png', '72.png', '73.png', '74.png', '75.png', '76.png', '77.png', '78.png', '79.png', '8.png', '80.png', '81.png', '82.png', '83.png', '84.png', '85.png', '86.png', '87.png', '88.png', '89.png', '9.png', '90.png', '91.png', '92.png', '93.png', '94.png', '95.png', '96.png', '97.png', '98.png', '99.png', 'bgnds', 'holos', 'images.csv', 'zernike_polynom_imogen_1.py']\n",
      "Pixel Size = 5.2 um\n"
     ]
    },
    {
     "ename": "FileNotFoundError",
     "evalue": "[WinError 3] The system cannot find the path specified: '.\\\\GitHub\\\\slm\\\\images\\\\2021\\\\November\\\\22\\\\Measure 16'",
     "output_type": "error",
     "traceback": [
      "\u001b[1;31m---------------------------------------------------------------------------\u001b[0m",
      "\u001b[1;31mFileNotFoundError\u001b[0m                         Traceback (most recent call last)",
      "\u001b[1;32m<ipython-input-8-2276b486221b>\u001b[0m in \u001b[0;36m<module>\u001b[1;34m\u001b[0m\n\u001b[0;32m     20\u001b[0m \u001b[1;33m\u001b[0m\u001b[0m\n\u001b[0;32m     21\u001b[0m \u001b[1;31m#collect beam radius arrays from images\u001b[0m\u001b[1;33m\u001b[0m\u001b[1;33m\u001b[0m\u001b[1;33m\u001b[0m\u001b[0m\n\u001b[1;32m---> 22\u001b[1;33m \u001b[0mz\u001b[0m\u001b[1;33m,\u001b[0m \u001b[0mwx\u001b[0m\u001b[1;33m,\u001b[0m \u001b[0mwy\u001b[0m \u001b[1;33m=\u001b[0m \u001b[0mprofile\u001b[0m\u001b[1;33m.\u001b[0m\u001b[0manalyseBeamProfile\u001b[0m\u001b[1;33m(\u001b[0m\u001b[0md\u001b[0m\u001b[1;33m)\u001b[0m\u001b[1;33m\u001b[0m\u001b[1;33m\u001b[0m\u001b[0m\n\u001b[0m\u001b[0;32m     23\u001b[0m \u001b[1;33m\u001b[0m\u001b[0m\n\u001b[0;32m     24\u001b[0m \u001b[1;31m#collect intensity values from images\u001b[0m\u001b[1;33m\u001b[0m\u001b[1;33m\u001b[0m\u001b[1;33m\u001b[0m\u001b[0m\n",
      "\u001b[1;32mc:\\Users\\imoge\\OneDrive\\Documents\\Fourth Year\\Project\\Imogen\\beam_fitting_code.py\u001b[0m in \u001b[0;36manalyseBeamProfile\u001b[1;34m(self, fit, plot_all, crop_x, crop_y, angle)\u001b[0m\n\u001b[0;32m    202\u001b[0m                 \u001b[0mprint\u001b[0m\u001b[1;33m(\u001b[0m\u001b[1;34m\"Pixel Size =\"\u001b[0m\u001b[1;33m,\u001b[0m\u001b[0mself\u001b[0m\u001b[1;33m.\u001b[0m\u001b[0mpixelSize\u001b[0m\u001b[1;33m*\u001b[0m\u001b[1;36m1e3\u001b[0m\u001b[1;33m,\u001b[0m\u001b[1;34m\"um\"\u001b[0m\u001b[1;33m)\u001b[0m\u001b[1;33m\u001b[0m\u001b[1;33m\u001b[0m\u001b[0m\n\u001b[0;32m    203\u001b[0m                 \u001b[0mim\u001b[0m \u001b[1;33m=\u001b[0m \u001b[0mimage\u001b[0m\u001b[1;33m(\u001b[0m\u001b[0mpixelSize\u001b[0m\u001b[1;33m=\u001b[0m\u001b[0mself\u001b[0m\u001b[1;33m.\u001b[0m\u001b[0mpixelSize\u001b[0m\u001b[1;33m)\u001b[0m\u001b[1;33m\u001b[0m\u001b[1;33m\u001b[0m\u001b[0m\n\u001b[1;32m--> 204\u001b[1;33m                 \u001b[0mim\u001b[0m\u001b[1;33m.\u001b[0m\u001b[0mopenImage\u001b[0m\u001b[1;33m(\u001b[0m\u001b[0mfilename\u001b[0m\u001b[1;33m)\u001b[0m\u001b[1;33m\u001b[0m\u001b[1;33m\u001b[0m\u001b[0m\n\u001b[0m\u001b[0;32m    205\u001b[0m                 \u001b[1;32mif\u001b[0m \u001b[0mcrop_x\u001b[0m\u001b[1;33m!=\u001b[0m\u001b[1;32mNone\u001b[0m\u001b[1;33m:\u001b[0m\u001b[1;33m\u001b[0m\u001b[1;33m\u001b[0m\u001b[0m\n\u001b[0;32m    206\u001b[0m                     \u001b[0mim\u001b[0m\u001b[1;33m.\u001b[0m\u001b[0mcropImage\u001b[0m\u001b[1;33m(\u001b[0m\u001b[0mcrop_x\u001b[0m\u001b[1;33m,\u001b[0m\u001b[0mcrop_y\u001b[0m\u001b[1;33m)\u001b[0m\u001b[1;33m\u001b[0m\u001b[1;33m\u001b[0m\u001b[0m\n",
      "\u001b[1;32mc:\\Users\\imoge\\OneDrive\\Documents\\Fourth Year\\Project\\Imogen\\beam_fitting_code.py\u001b[0m in \u001b[0;36mopenImage\u001b[1;34m(self, fname, directory, fileType)\u001b[0m\n\u001b[0;32m    124\u001b[0m         \u001b[1;34m\"\"\"Can load the image from a file\"\"\"\u001b[0m\u001b[1;33m\u001b[0m\u001b[1;33m\u001b[0m\u001b[0m\n\u001b[0;32m    125\u001b[0m         \u001b[1;32mif\u001b[0m \u001b[0mdirectory\u001b[0m \u001b[1;33m!=\u001b[0m \u001b[1;32mNone\u001b[0m\u001b[1;33m:\u001b[0m\u001b[1;33m\u001b[0m\u001b[1;33m\u001b[0m\u001b[0m\n\u001b[1;32m--> 126\u001b[1;33m             \u001b[0mos\u001b[0m\u001b[1;33m.\u001b[0m\u001b[0mchdir\u001b[0m\u001b[1;33m(\u001b[0m\u001b[0mdirectory\u001b[0m\u001b[1;33m)\u001b[0m\u001b[1;33m\u001b[0m\u001b[1;33m\u001b[0m\u001b[0m\n\u001b[0m\u001b[0;32m    127\u001b[0m         \u001b[1;32mif\u001b[0m \u001b[0mfileType\u001b[0m \u001b[1;33m==\u001b[0m \u001b[1;34m'png'\u001b[0m\u001b[1;33m:\u001b[0m\u001b[1;33m\u001b[0m\u001b[1;33m\u001b[0m\u001b[0m\n\u001b[0;32m    128\u001b[0m             \u001b[0mself\u001b[0m\u001b[1;33m.\u001b[0m\u001b[0mimvals\u001b[0m \u001b[1;33m=\u001b[0m \u001b[0mnp\u001b[0m\u001b[1;33m.\u001b[0m\u001b[0marray\u001b[0m\u001b[1;33m(\u001b[0m\u001b[0mImage\u001b[0m\u001b[1;33m.\u001b[0m\u001b[0mopen\u001b[0m\u001b[1;33m(\u001b[0m\u001b[0mfname\u001b[0m\u001b[1;33m)\u001b[0m\u001b[1;33m)\u001b[0m\u001b[1;31m#[:,:,0] #comment out this slice for other file formats\u001b[0m\u001b[1;33m\u001b[0m\u001b[1;33m\u001b[0m\u001b[0m\n",
      "\u001b[1;31mFileNotFoundError\u001b[0m: [WinError 3] The system cannot find the path specified: '.\\\\GitHub\\\\slm\\\\images\\\\2021\\\\November\\\\22\\\\Measure 16'"
     ]
    }
   ],
   "source": [
    "# -*- coding: utf-8 -*-\n",
    "\"\"\"\n",
    "Created on Mon Nov 22 10:35:37 2021\n",
    "\n",
    "@author: imoge\n",
    "\"\"\"\n",
    "\n",
    "import numpy as np\n",
    "import matplotlib.pyplot as plt\n",
    "from beam_fitting_code import profile\n",
    "from beam_fitting_code import image\n",
    "import scipy.optimize as scpo\n",
    "\n",
    "#file images are being taken from\n",
    "d = r\"C:\\Users\\imoge\\OneDrive\\Documents\\Fourth Year\\Project\\Imogen\\GitHub\\slm\\images\\2021\\November\\22\\Measure 16\"\n",
    "amplitude_range= np.arange(0, 0.3, 0.005)  \n",
    "\n",
    "#intialise modules\n",
    "profile=profile(d)\n",
    "\n",
    "#collect beam radius arrays from images\n",
    "z, wx, wy = profile.analyseBeamProfile(d)\n",
    "\n",
    "#collect intensity values from images\n",
    "for x in range(0,(3*len(amplitude_range)),1):\n",
    "    \n",
    "    d = d + \"\\{}.png\". format(x)\n",
    "    \n",
    "    yInt, xInt, xpix, ypix, xth, xopt, yth, yopt = profile.plotSingle()\n",
    "\n",
    "#remove background - code makes image 0 the background image\n",
    "wx_corrected = []\n",
    "wy_corrected = []\n",
    "for image_no in range(1,len(wx),1):\n",
    "    wx_corrected.append(wx[image_no] - wx[0])\n",
    "    wy_corrected.append(wy[image_no] - wy[0])\n",
    "    \n",
    "\n",
    "    \n",
    "#breaks list of values into repeats and averages\n",
    "amplitude_range= np.arange(0, 0.3, 0.005) \n",
    "images_in_set = len(amplitude_range)\n",
    "wx_1 = wx[1:(images_in_set+1)]\n",
    "wx_2 = wx[(images_in_set+1):2*(images_in_set)+1]\n",
    "wx_3 = wx[2*(images_in_set)+1::]\n",
    "wx_average = (wx_1 + wx_2 + wx_3)/3\n",
    "\n",
    "wy_1 = wy[1:(images_in_set+1)]\n",
    "wy_2 = wy[(images_in_set+1):2*(images_in_set)+1]\n",
    "wy_3 = wy[2*(images_in_set)+1::]\n",
    "wy_average = (wy_1 + wy_2 + wy_3)/3\n",
    "\n",
    "#error analysis\n",
    "#TO DO\n",
    "\n",
    "\n",
    "#plot of beam waist vs amplitude\n",
    "plt.figure(figsize=(10,4)) \n",
    "plt.scatter(amplitude_range, wx_average, label='Mean beam waist in x')\n",
    "#plt.scatter(np.arange(-1, 1,0.1), wx_corrected[1:21], label='Beam waist in x')\n",
    "plt.scatter(amplitude_range , wy_average, label= 'Mean beam waist in y')\n",
    "plt.ylabel('Beam $\\\\frac{1}{e^2} $ waist in x / mm')\n",
    "plt.xlabel('Amplitude ')\n",
    "#plt.axvspan(200,300, 0, 2, alpha=0.25, color ='green') #bar for consideration at supervision\n",
    "plt.legend()\n",
    "plt.show()\n",
    "\n",
    "#plot of beam waist vs milliwaves\n",
    "plt.figure(figsize=(10,4))\n",
    "plt.scatter(amplitude_range*1000, wx_average, label='Mean beam waist in x')\n",
    "plt.scatter(amplitude_range*1000, wy_average, label='Mean beam waist in y')\n",
    "plt.ylabel('Beam $\\\\frac{1}{e^2} $ waist in x / mm')\n",
    "plt.xlabel('Milliwaves ')\n",
    "plt.legend()\n",
    "plt.show()\n"
   ]
  },
  {
   "cell_type": "code",
   "execution_count": null,
   "metadata": {},
   "outputs": [],
   "source": []
  }
 ],
 "metadata": {
  "interpreter": {
   "hash": "ba79f68023dca368a0b4669c430efff2e6e1adca6b9055442baae61813882dcc"
  },
  "kernelspec": {
   "display_name": "Python 3.8.8 64-bit ('base': conda)",
   "language": "python",
   "name": "python3"
  },
  "language_info": {
   "codemirror_mode": {
    "name": "ipython",
    "version": 3
   },
   "file_extension": ".py",
   "mimetype": "text/x-python",
   "name": "python",
   "nbconvert_exporter": "python",
   "pygments_lexer": "ipython3",
   "version": "3.8.8"
  },
  "orig_nbformat": 4
 },
 "nbformat": 4,
 "nbformat_minor": 2
}
